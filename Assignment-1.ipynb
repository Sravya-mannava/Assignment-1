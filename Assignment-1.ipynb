{
  "nbformat": 4,
  "nbformat_minor": 0,
  "metadata": {
    "colab": {
      "provenance": [],
      "authorship_tag": "ABX9TyOtYRYLzryWRqrsIH3wsjTK",
      "include_colab_link": true
    },
    "kernelspec": {
      "name": "python3",
      "display_name": "Python 3"
    },
    "language_info": {
      "name": "python"
    }
  },
  "cells": [
    {
      "cell_type": "markdown",
      "metadata": {
        "id": "view-in-github",
        "colab_type": "text"
      },
      "source": [
        "<a href=\"https://colab.research.google.com/github/Sravya-mannava/Assignment-1/blob/main/Assignment-1.ipynb\" target=\"_parent\"><img src=\"https://colab.research.google.com/assets/colab-badge.svg\" alt=\"Open In Colab\"/></a>"
      ]
    },
    {
      "cell_type": "code",
      "execution_count": null,
      "metadata": {
        "id": "AH8S21U2tCKP",
        "outputId": "6c0c15b4-793a-4b02-aa44-5cd37a70eb3d",
        "colab": {
          "base_uri": "https://localhost:8080/"
        }
      },
      "outputs": [
        {
          "output_type": "stream",
          "name": "stdout",
          "text": [
            "Sorted Ages :  [19, 19, 20, 22, 24, 24, 24, 25, 25, 26]\n",
            "Minimum Age :  19\n",
            "Maximum Age : 26\n",
            "Median :  24\n",
            "Average : 22.75\n",
            "Range : 7\n"
          ]
        }
      ],
      "source": [
        "# Q1\n",
        "Ages = [19,22,19, 24,20,25,26,24,25,24]\n",
        "SortedList = sorted(Ages)\n",
        "\n",
        "#1 sorting the  given list into new list and finding minimum & maximum ages\n",
        "print(\"Sorted Ages : \",SortedList)\n",
        "print(\"Minimum Age : \",SortedList[0])\n",
        "print(\"Maximum Age :\",SortedList[-1])\n",
        "\n",
        "#2 Adding minimum and maximum ages  into the list\n",
        "Minimum = SortedList[0]\n",
        "Maximum = SortedList[-1]\n",
        "SortedList.append(Minimum)\n",
        "SortedList.append(Maximum)\n",
        "\n",
        "#3 Finding median\n",
        "Length = len(SortedList)\n",
        "if Length % 2 == 0 :\n",
        "    Median1 = SortedList[Length//2]\n",
        "    Median2 = SortedList[Length//2 - 1]\n",
        "    Median = (Median1+Median2)//2\n",
        "    print(\"Median : \",Median)\n",
        "else :\n",
        "  median = SortedList[Length//2]\n",
        "  print(\"Median : \",median)\n",
        "\n",
        "#4 finding Average\n",
        "Sum = 0\n",
        "for i in range (0,Length):\n",
        "  Sum = Sum + SortedList[i]\n",
        "Average = Sum/Length\n",
        "print(\"Average :\",Average)\n",
        "\n",
        "#5 finding  range\n",
        "Range = Maximum - Minimum\n",
        "print(\"Range :\",Range)"
      ]
    },
    {
      "cell_type": "code",
      "source": [
        "# Q2\n",
        "\n",
        "#1 Creating Empty Dictionary \n",
        "dog = {}\n",
        "\n",
        "#2 Adding name, color, breed, legs, age into dog Dictionary\n",
        "dog = {\"Name\":None, \"Color\":None, \"Breed\":None, \"Legs\":None, \"Age\":None}\n",
        "\n",
        "#3 Creating a student dictionary & adding FirstName,LastName,Gender,Age,MaritalStatus,Skill,Country,City & Address into Student dictionary\n",
        "Student = {\"FirstName\":None,\"LastName\":None,\"Gender\":None,\"Age\":None,\"MaritalStatus\":None,\"Skill\":None, \"Country\":None, \"City\":None,\"Address\":None}\n",
        "\n",
        "#4 Finding length of the Student\n",
        "print(\"The length of Student: \",len(Student))\n",
        "\n",
        "# Adding Key values to Student dictionary\n",
        "Student = {\n",
        "    \"FirstName\":'Sravya',\n",
        "    \"LastName\":'Mannava', \n",
        "    \"Gender\":'Female', \n",
        "    \"Age\":'21',\n",
        "    \"MaritalStatus\": 'Unmarried',\n",
        "    \"Skill\":['Logical Thinking','Pressure Handling'], \n",
        "    \"Country\":'US', \n",
        "    \"City\":'OP', \n",
        "    \"Address\":'5000w 108th st'\n",
        "}\n",
        "\n",
        "#5 value of skills and check the data type\n",
        "print(\"Type: \",type(Student['Skill']))\n",
        "print(\"The Skills are: \",Student.get('Skill'))\n",
        "\n",
        "#6 Modify the skills values by adding one or two skills\n",
        "Student['Skill'].append(\"Time Management\")\n",
        "Student['Skill'].append(\"Anger Management\")\n",
        "print(\"The skills are  after appending: \",Student.get('Skill'))\n",
        "\n",
        "#7 printing Student keys\n",
        "print(\"The keys in the student  : \",Student.keys())\n",
        "\n",
        "#8 printing Student values \n",
        "print(\"The values in the student : \",Student.values())\n"
      ],
      "metadata": {
        "id": "WRnM1R932zxg",
        "outputId": "9016dc84-d6bf-4dbc-ac75-69ce87150c16",
        "colab": {
          "base_uri": "https://localhost:8080/"
        }
      },
      "execution_count": null,
      "outputs": [
        {
          "output_type": "stream",
          "name": "stdout",
          "text": [
            "The length of Student:  9\n",
            "Type:  <class 'list'>\n",
            "The Skills are:  ['Logical Thinking', 'Pressure Handling']\n",
            "The skills are  after appending:  ['Logical Thinking', 'Pressure Handling', 'Time Management', 'Anger Management']\n",
            "The keys in student  :  dict_keys(['FirstName', 'LastName', 'Gender', 'Age', 'MaritalStatus', 'Skill', 'Country', 'City', 'Address'])\n",
            "The values in student :  dict_values(['Sravya', 'Mannava', 'Female', '21', 'Unmarried', ['Logical Thinking', 'Pressure Handling', 'Time Management', 'Anger Management'], 'US', 'OP', '5000w 108th st'])\n"
          ]
        }
      ]
    },
    {
      "cell_type": "code",
      "source": [
        "# Q3\n",
        "#1 Creating tuples \n",
        "Bro = (\"Ravi\", \"Hari\", \"Likith\")\n",
        "Sis = (\"Navya\", \"Priya\")\n",
        "\n",
        "#2 joining two tuples\n",
        "Siblings = Bro+Sis\n",
        "print(\"After adding brothers and sisters: \",Siblings)\n",
        "\n",
        "#3 printing the number of siblings\n",
        "print(\"The length of siblings :\",len(Siblings))\n",
        "\n",
        "#4 adding Father and mother to siblings and assigning it to siblings\n",
        "Siblings = Siblings + (\"Venkateswara Rao\",\"Annapurna\")\n",
        "family_members = Siblings\n",
        "print(\"After adding father and mother name :\",family_members,)  \n",
        "     "
      ],
      "metadata": {
        "id": "BGDyRTDVIESu",
        "outputId": "944429bc-47e9-42d0-d9c1-5dac101db934",
        "colab": {
          "base_uri": "https://localhost:8080/"
        }
      },
      "execution_count": null,
      "outputs": [
        {
          "output_type": "stream",
          "name": "stdout",
          "text": [
            "After adding brothers and sisters:  ('Ravi', 'Hari', 'Likith', 'Navya', 'Priya')\n",
            "The length of siblings : 5\n",
            "After adding father and mother name : ('Ravi', 'Hari', 'Likith', 'Navya', 'Priya', 'Venkateswara Rao', 'Annapurna')\n"
          ]
        }
      ]
    },
    {
      "cell_type": "code",
      "source": [
        "# Q4\n",
        "\n",
        "it_companies = {'Facebook', 'Google', 'Microsoft', 'Apple', 'IBM', 'Oracle', 'Amazon'}\n",
        "A = {19, 22, 24, 20, 25, 26}\n",
        "B = {19, 22, 20, 25, 26, 24, 28, 27}\n",
        "age = [22, 19, 24, 25, 26, 24, 25, 24]\n",
        "\n",
        "#1 length of it_companies\n",
        "Length = len(it_companies)\n",
        "print(\"Length :\",Length)\n",
        "print(\"it_companies:\", it_companies)\n",
        "\n",
        "#2 Adding 'Twitter' to it_companies\n",
        "it_companies.add('Twitter')\n",
        "print(\"Ater adding, it_companies:\",it_companies)\n",
        "\n",
        "#3 Insert multiple companies to it_companies\n",
        "extra_companies = ['Infosys','Wipro','HCL']\n",
        "it_companies.update(extra_companies)\n",
        "print(\"The updated it_companies:\",it_companies)\n",
        "\n",
        "#4 Remove one of the companies from the set it_companies\n",
        "it_companies.remove('HCL')\n",
        "print(\"Ater deleting a company(it_companies: \",it_companies)\n",
        "\n",
        "#5 The difference between remove and discard\n",
        "'''  The remove will show the error , when the element is not in set but discard will never show error'''\n",
        "\n",
        "print(\"dicard usage\",it_companies.discard('Tech Mahindra'))\n",
        "\n",
        "#6 Joining A and B\n",
        "c=B.union(A)\n",
        "\n",
        "#7 Finding A intersection B\n",
        "Intersection = A.intersection(B)\n",
        "print(\"Intersection set: \",Intersection)\n",
        "\n",
        "#8 Is A subset of B ?\n",
        "print(\"A is subset of B: \",A.issubset(B))\n",
        "\n",
        "#9 Are A and B disjoint sets ?\n",
        "print(\"A and B disjoint sets: \",A.isdisjoint(B))\n",
        "\n",
        "#10 Join A with B and B with A\n",
        "print(\"Joining A with B:\",A.union(B))\n",
        "print(\"Joining B with A:\",B.union(A))\n",
        "\n",
        "#11 the symmetric difference between A and B\n",
        "print(\"The symmentric difference is : \",A.symmetric_difference(B))\n",
        "\n",
        "#12 Delete the sets\n",
        "del A\n",
        "del B\n",
        "\n",
        "#13 Converting the ages to a set and comparing  the length of  list and  set\n",
        "Set = set(age)\n",
        "print(\"Converted to set\",Set)\n",
        "print(\"The length of list is :\",len(age),\"and set is :\",len(Set))"
      ],
      "metadata": {
        "id": "Fpl3KEWjL80o",
        "outputId": "a551f047-9740-44d0-cb9f-bba56e76a9fa",
        "colab": {
          "base_uri": "https://localhost:8080/"
        }
      },
      "execution_count": null,
      "outputs": [
        {
          "output_type": "stream",
          "name": "stdout",
          "text": [
            "Length : 7\n",
            "it_companies: {'Apple', 'Oracle', 'Amazon', 'Microsoft', 'Google', 'Facebook', 'IBM'}\n",
            "Ater adding, it_companies: {'Apple', 'Oracle', 'Amazon', 'Microsoft', 'Google', 'Facebook', 'Twitter', 'IBM'}\n",
            "The updated it_companies: {'Apple', 'HCL', 'Oracle', 'Amazon', 'Microsoft', 'Google', 'Facebook', 'Wipro', 'Twitter', 'Infosys', 'IBM'}\n",
            "Ater deleting a company(it_companies:  {'Apple', 'Oracle', 'Amazon', 'Microsoft', 'Google', 'Facebook', 'Wipro', 'Twitter', 'Infosys', 'IBM'}\n",
            "dicard usage None\n",
            "Intersection set:  {19, 20, 22, 24, 25, 26}\n",
            "A is subset of B:  True\n",
            "A and B disjoint sets:  False\n",
            "Joining A with B: {19, 20, 22, 24, 25, 26, 27, 28}\n",
            "Joining B with A: {19, 20, 22, 24, 25, 26, 27, 28}\n",
            "The symmentric difference is :  {27, 28}\n",
            "Converted to set {19, 22, 24, 25, 26}\n",
            "The length of list is : 8 and set is : 5\n"
          ]
        }
      ]
    },
    {
      "cell_type": "code",
      "source": [
        "# Q5\n",
        "\n",
        "import math\n",
        "c = math.pi\n",
        "radius = 30\n",
        "\n",
        "#1 Finding area of circle\n",
        "_area_of_circle_ = c * radius * radius\n",
        "print(\"Area of circle:\",_area_of_circle_)\n",
        "\n",
        "#2 Finding Circumference\n",
        "_circum_of_circle_= 2 * c * radius\n",
        "print(\"Circumference of Circle:\",_circum_of_circle_)\n",
        "\n",
        "#taking input From User\n",
        "NewRadius = float(input(\"Enter the radius value: \"))\n",
        "Area = c * NewRadius * NewRadius\n",
        "print(\"Area of circle with new radius\",Area)"
      ],
      "metadata": {
        "id": "3zyhrl_-RH-e",
        "outputId": "3c34ab4a-35d4-4e91-e301-bdd829bdf5cf",
        "colab": {
          "base_uri": "https://localhost:8080/"
        }
      },
      "execution_count": null,
      "outputs": [
        {
          "output_type": "stream",
          "name": "stdout",
          "text": [
            "Area of circle: 2827.4333882308138\n",
            "Circumference of Circle: 188.49555921538757\n",
            "Enter the radius value: 5\n",
            "Area of circle with new radius 78.53981633974483\n"
          ]
        }
      ]
    },
    {
      "cell_type": "code",
      "source": [
        "# Q6\n",
        "\n",
        "sentence = \"I am a teacher and I love to inspire and teach people\"\n",
        "\n",
        "# splting the sentence with the help of split keyword\n",
        "S = sentence.split(\" \")\n",
        "Split_set = set(S)\n",
        "print(\"words in set: \" ,Split_set)\n",
        "print(\"Number of unique words in given sentence: \",len(Split_set))\n",
        "                          "
      ],
      "metadata": {
        "id": "I_TmqNr6TMGR",
        "outputId": "d9776139-1acd-4ea7-9ade-584db5bc1f35",
        "colab": {
          "base_uri": "https://localhost:8080/"
        }
      },
      "execution_count": null,
      "outputs": [
        {
          "output_type": "stream",
          "name": "stdout",
          "text": [
            "words in set:  {'and', 'teacher', 'inspire', 'people', 'a', 'love', 'I', 'to', 'am', 'teach'}\n",
            "Number of unique words in given sentence:  10\n"
          ]
        }
      ]
    },
    {
      "cell_type": "code",
      "source": [
        "# Q7\n",
        "\n",
        "print(\"Name\\t\\tAge\\tCountry\\tCity\\nAsabeneh\\t250\\tFinland\\tHelsinki\")"
      ],
      "metadata": {
        "id": "MRvAnGY9Ultg",
        "outputId": "b16c5f00-236d-4c61-c019-b865678bc8fc",
        "colab": {
          "base_uri": "https://localhost:8080/"
        }
      },
      "execution_count": null,
      "outputs": [
        {
          "output_type": "stream",
          "name": "stdout",
          "text": [
            "Name\t\tAge\tCountry\tCity\n",
            "Asabeneh\t250\tFinland\tHelsinki\n"
          ]
        }
      ]
    },
    {
      "cell_type": "code",
      "source": [
        "# Q8\n",
        "\n",
        "radius = 10\n",
        "area = int(3.14 * radius ** 2)\n",
        "\n",
        "# string formating\n",
        "format_area = 'The area of circle with radius {} is {} meters square.'.format(radius, area)  \n",
        "print(format_area)     "
      ],
      "metadata": {
        "id": "ReYc0eJEUs-A",
        "outputId": "589b1bec-7173-4773-8680-0dab42984e16",
        "colab": {
          "base_uri": "https://localhost:8080/"
        }
      },
      "execution_count": null,
      "outputs": [
        {
          "output_type": "stream",
          "name": "stdout",
          "text": [
            "The area of circle with radius 10 is 314 meters square.\n"
          ]
        }
      ]
    },
    {
      "cell_type": "code",
      "source": [
        "# Q9\n",
        "\n",
        "# Taking the input form User\n",
        "n = int(input('Enter the length:'))\n",
        "\n",
        "# creating lists one for lbs\n",
        "list = []\n",
        "CL =[]\n",
        "for i in range (0,n) :\n",
        "    p =  float(input('Enter the value:'))\n",
        "    list.append(p)\n",
        "# converting lbs and kgs\n",
        "for i in range (0,n):\n",
        "      q = list[i] * 0.453592\n",
        "      CL.append(round(q,2))\n",
        "print(\"Conerted to kgs: \",CL)"
      ],
      "metadata": {
        "id": "rrEWYYtOUwbC",
        "outputId": "845f0f3f-f579-485d-e0d6-64d5f095c71b",
        "colab": {
          "base_uri": "https://localhost:8080/"
        }
      },
      "execution_count": 42,
      "outputs": [
        {
          "output_type": "stream",
          "name": "stdout",
          "text": [
            "Enter the length:3\n",
            "Enter the value:2\n",
            "Enter the value:3\n",
            "Enter the value:4\n",
            "Conerted to kgs:  [0.91, 1.36, 1.81]\n"
          ]
        }
      ]
    }
  ]
}