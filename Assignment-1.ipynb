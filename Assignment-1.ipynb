{
  "nbformat": 4,
  "nbformat_minor": 0,
  "metadata": {
    "colab": {
      "provenance": [],
      "authorship_tag": "ABX9TyM+IRrtOXVm3dfa2ApGrozR",
      "include_colab_link": true
    },
    "kernelspec": {
      "name": "python3",
      "display_name": "Python 3"
    },
    "language_info": {
      "name": "python"
    }
  },
  "cells": [
    {
      "cell_type": "markdown",
      "metadata": {
        "id": "view-in-github",
        "colab_type": "text"
      },
      "source": [
        "<a href=\"https://colab.research.google.com/github/Sravya-mannava/Assignment-1/blob/main/Assignment-1.ipynb\" target=\"_parent\"><img src=\"https://colab.research.google.com/assets/colab-badge.svg\" alt=\"Open In Colab\"/></a>"
      ]
    },
    {
      "cell_type": "code",
      "execution_count": 41,
      "metadata": {
        "id": "AH8S21U2tCKP",
        "outputId": "18408085-8a17-4a3b-be1e-1188bed00061",
        "colab": {
          "base_uri": "https://localhost:8080/"
        }
      },
      "outputs": [
        {
          "output_type": "stream",
          "name": "stdout",
          "text": [
            "Sorted Ages :  [19, 19, 20, 22, 24, 24, 24, 25, 25, 26]\n",
            "Minimum Age :  19\n",
            "Maximum Age : 26\n",
            "Median :  24\n",
            "Average : 22.75\n",
            "Range : 7\n"
          ]
        }
      ],
      "source": [
        "# Q1\n",
        "ages = [19,22,19, 24,20,25,26,24,25,24]\n",
        "ages.sort() #sort() is used to sort ages list\n",
        "\n",
        "#1 sorting the  given list into new list and finding minimum & maximum ages\n",
        "print(\"Sorted Ages : \",ages)\n",
        "print(\"Minimum Age : \",ages[0]) # 0 indexing is used to find mimimum\n",
        "print(\"Maximum Age :\",ages[-1]) # negative indexing is used to find maximum\n",
        "\n",
        "#2 Adding minimum and maximum ages  into the list\n",
        "Minimum = ages[0]      \n",
        "Maximum = ages[-1]\n",
        "ages.append(Minimum)  #append is used to add element to list\n",
        "ages.append(Maximum)\n",
        "\n",
        "#3 Finding median\n",
        "Length = len(ages)  #len() is used to find lenght of list\n",
        "if Length % 2 == 0 :\n",
        "    Median1 = ages[Length//2]\n",
        "    Median2 = ages[Length//2 - 1]\n",
        "    Median = (Median1+Median2)//2\n",
        "    print(\"Median : \",Median)\n",
        "else :\n",
        "  median = ages[Length//2]\n",
        "  print(\"Median : \",median)\n",
        "\n",
        "#4 finding Average\n",
        "Sum = 0\n",
        "for i in range (0,Length): # loop is used to add all the elements inthe ageslist\n",
        "  Sum = Sum + ages[i]\n",
        "Average = Sum/Length\n",
        "print(\"Average :\",Average)\n",
        "\n",
        "#5 finding  range\n",
        "Range = Maximum - Minimum\n",
        "print(\"Range :\",Range)"
      ]
    },
    {
      "cell_type": "code",
      "source": [
        "# Q2\n",
        "\n",
        "#1 Creating Empty Dictionary \n",
        "dog = {}\n",
        "\n",
        "#2 Adding name, color, breed, legs, age into dog Dictionary\n",
        "dog = {\"Name\":None, \"Color\":None, \"Breed\":None, \"Legs\":None, \"Age\":None}\n",
        "\n",
        "#3 Creating a student dictionary & adding FirstName,LastName,Gender,Age,MaritalStatus,Skill,Country,City & Address into Student dictionary\n",
        "Student = {\"FirstName\":None,\"LastName\":None,\"Gender\":None,\"Age\":None,\"MaritalStatus\":None,\"Skill\":None, \"Country\":None, \"City\":None,\"Address\":None}\n",
        "\n",
        "#4 Finding length of the Student\n",
        "print(\"The length of Student: \",len(Student))\n",
        "\n",
        "# Adding Key values to Student dictionary\n",
        "Student = {\n",
        "    \"FirstName\":'Sravya',\n",
        "    \"LastName\":'Mannava', \n",
        "    \"Gender\":'Female', \n",
        "    \"Age\":'21',\n",
        "    \"MaritalStatus\": 'Unmarried',\n",
        "    \"Skill\":['Logical Thinking','Pressure Handling'], \n",
        "    \"Country\":'US', \n",
        "    \"City\":'OP', \n",
        "    \"Address\":'5000w 108th st'\n",
        "}\n",
        "\n",
        "#5 value of skills and check the data type\n",
        "print(\"Type: \",type(Student['Skill'])) # type() is used to check the type of skill\n",
        "print(\"The Skills are: \",Student.get('Skill'))\n",
        "\n",
        "#6 Modify the skills values by adding one or two skills\n",
        "Student['Skill'].append(\"Time Management\") #append() is used to add elements to list\n",
        "Student['Skill'].append(\"Anger Management\")\n",
        "print(\"The skills are  after appending: \",Student.get('Skill'))\n",
        "\n",
        "#7 printing Student keys\n",
        "print(\"The keys in the student  : \",Student.keys()) #key() is used access key elements to dictionary\n",
        "\n",
        "#8 printing Student values \n",
        "print(\"The values in the student : \",Student.values()) #values is used to access value elements to dictionary\n"
      ],
      "metadata": {
        "id": "WRnM1R932zxg",
        "outputId": "823fb190-ee22-44f0-d6df-a8a49119150c",
        "colab": {
          "base_uri": "https://localhost:8080/"
        }
      },
      "execution_count": 42,
      "outputs": [
        {
          "output_type": "stream",
          "name": "stdout",
          "text": [
            "The length of Student:  9\n",
            "Type:  <class 'list'>\n",
            "The Skills are:  ['Logical Thinking', 'Pressure Handling']\n",
            "The skills are  after appending:  ['Logical Thinking', 'Pressure Handling', 'Time Management', 'Anger Management']\n",
            "The keys in the student  :  dict_keys(['FirstName', 'LastName', 'Gender', 'Age', 'MaritalStatus', 'Skill', 'Country', 'City', 'Address'])\n",
            "The values in the student :  dict_values(['Sravya', 'Mannava', 'Female', '21', 'Unmarried', ['Logical Thinking', 'Pressure Handling', 'Time Management', 'Anger Management'], 'US', 'OP', '5000w 108th st'])\n"
          ]
        }
      ]
    },
    {
      "cell_type": "code",
      "source": [
        "# Q3\n",
        "#1 Creating tuples \n",
        "Bro = (\"Ravi\", \"Hari\", \"Likith\")\n",
        "Sis = (\"Navya\", \"Priya\")\n",
        "\n",
        "#2 joining two tuples\n",
        "Siblings = Bro+Sis # + is used for concatenation\n",
        "print(\"After adding brothers and sisters: \",Siblings)\n",
        "\n",
        "#3 printing the number of siblings\n",
        "print(\"The length of siblings :\",len(Siblings))\n",
        "\n",
        "#4 adding Father and mother to siblings and assigning it to siblings\n",
        "Siblings = Siblings + (\"Venkateswara Rao\",\"Annapurna\") # + is used for concatenation\n",
        "family = Siblings\n",
        "print(\"After adding father and mother name :\",family)  \n",
        "     "
      ],
      "metadata": {
        "id": "BGDyRTDVIESu",
        "outputId": "001e60b9-a208-4231-fde8-f70c247944fb",
        "colab": {
          "base_uri": "https://localhost:8080/"
        }
      },
      "execution_count": 43,
      "outputs": [
        {
          "output_type": "stream",
          "name": "stdout",
          "text": [
            "After adding brothers and sisters:  ('Ravi', 'Hari', 'Likith', 'Navya', 'Priya')\n",
            "The length of siblings : 5\n",
            "After adding father and mother name : ('Ravi', 'Hari', 'Likith', 'Navya', 'Priya', 'Venkateswara Rao', 'Annapurna')\n"
          ]
        }
      ]
    },
    {
      "cell_type": "code",
      "source": [
        "# Q4\n",
        "\n",
        "it_companies = {'Facebook', 'Google', 'Microsoft', 'Apple', 'IBM', 'Oracle', 'Amazon'}\n",
        "A = {19, 22, 24, 20, 25, 26}\n",
        "B = {19, 22, 20, 25, 26, 24, 28, 27}\n",
        "age = [22, 19, 24, 25, 26, 24, 25, 24]\n",
        "\n",
        "#1 length of it_companies\n",
        "Length = len(it_companies) #len() is used to get lenght of its_companies\n",
        "print(\"Length :\",Length)\n",
        "print(\"it_companies:\", it_companies)\n",
        "\n",
        "#2 Adding 'Twitter' to it_companies\n",
        "it_companies.add('Twitter') #add() is used to add new elements\n",
        "print(\"Ater adding, it_companies:\",it_companies)\n",
        "\n",
        "#3 Insert multiple companies to it_companies\n",
        "extra_companies = ['Infosys','Wipro','HCL']\n",
        "it_companies.update(extra_companies) #upadate() is used to add multiple elements in its_companies\n",
        "print(\"The updated it_companies:\",it_companies)\n",
        "\n",
        "#4 Remove one of the companies from the set it_companies\n",
        "it_companies.remove('HCL') #remove() is used to remove elements in its_companies\n",
        "print(\"Ater deleting a company(it_companies: \",it_companies)\n",
        "\n",
        "#5 The difference between remove and discard\n",
        "'''  The remove will show the error , when the element is not in set but discard will never show error'''\n",
        "\n",
        "print(\"dicard usage\",it_companies.discard('Tech Mahindra')) #discard() is used to discard\n",
        "\n",
        "#6 Joining A and B\n",
        "c=B.union(A) # union() is used to join 2 sets\n",
        "\n",
        "#7 Finding A intersection B\n",
        "Intersection = A.intersection(B) #intersection() is used to get common elements\n",
        "print(\"Intersection set: \",Intersection)\n",
        "\n",
        "#8 Is A subset of B ?\n",
        "print(\"A is subset of B: \",A.issubset(B)) #issubset() is used check true or flase\n",
        "\n",
        "#9 Are A and B disjoint sets ?\n",
        "print(\"A and B disjoint sets: \",A.isdisjoint(B)) #isdisjoint() is used check true or flase\n",
        "\n",
        "#10 Join A with B and B with A\n",
        "print(\"Joining A with B:\",A.union(B)) # union() is used to join 2 sets\n",
        "print(\"Joining B with A:\",B.union(A))\n",
        "\n",
        "#11 the symmetric difference between A and B\n",
        "print(\"The symmentric difference is : \",A.symmetric_difference(B)) #symmetric_difference() is used to get difference blw 2 sets\n",
        "\n",
        "#12 Delete the sets\n",
        "del A #del is used to delete the set\n",
        "del B\n",
        "\n",
        "#13 Converting the ages to a set and comparing  the length of  list and  set\n",
        "Set = set(age) #set() used to covert any datatype to set datatype\n",
        "print(\"Converted to set\",Set)\n",
        "print(\"The length of list is :\",len(age),\"and set is :\",len(Set))"
      ],
      "metadata": {
        "id": "Fpl3KEWjL80o",
        "outputId": "40a68029-f26d-421c-8fa6-483eb946ba22",
        "colab": {
          "base_uri": "https://localhost:8080/"
        }
      },
      "execution_count": 44,
      "outputs": [
        {
          "output_type": "stream",
          "name": "stdout",
          "text": [
            "Length : 7\n",
            "it_companies: {'Oracle', 'Apple', 'Google', 'Amazon', 'IBM', 'Facebook', 'Microsoft'}\n",
            "Ater adding, it_companies: {'Twitter', 'Oracle', 'Apple', 'Google', 'Amazon', 'IBM', 'Facebook', 'Microsoft'}\n",
            "The updated it_companies: {'Twitter', 'Infosys', 'HCL', 'Oracle', 'Apple', 'Google', 'Amazon', 'Wipro', 'IBM', 'Facebook', 'Microsoft'}\n",
            "Ater deleting a company(it_companies:  {'Twitter', 'Infosys', 'Oracle', 'Apple', 'Google', 'Amazon', 'Wipro', 'IBM', 'Facebook', 'Microsoft'}\n",
            "dicard usage None\n",
            "Intersection set:  {19, 20, 22, 24, 25, 26}\n",
            "A is subset of B:  True\n",
            "A and B disjoint sets:  False\n",
            "Joining A with B: {19, 20, 22, 24, 25, 26, 27, 28}\n",
            "Joining B with A: {19, 20, 22, 24, 25, 26, 27, 28}\n",
            "The symmentric difference is :  {27, 28}\n",
            "Converted to set {19, 22, 24, 25, 26}\n",
            "The length of list is : 8 and set is : 5\n"
          ]
        }
      ]
    },
    {
      "cell_type": "code",
      "source": [
        "# Q5\n",
        "\n",
        "import math\n",
        "c = math.pi\n",
        "radius = 30\n",
        "\n",
        "#1 Finding area of circle\n",
        "_area_of_circle_ = c * radius * radius #formula for area circle and * is used for multiply\n",
        "print(\"Area of circle:\",_area_of_circle_)\n",
        "\n",
        "#2 Finding Circumference\n",
        "_circum_of_circle_= 2 * c * radius #formula of circuferemce\n",
        "print(\"Circumference of Circle:\",_circum_of_circle_)\n",
        "\n",
        "#taking input From User\n",
        "NewRadius = float(input(\"Enter the radius value: \")) #taking input from user\n",
        "Area = c * NewRadius * NewRadius #formula for area circle and * is used for multiply\n",
        "print(\"Area of circle with new radius\",Area)"
      ],
      "metadata": {
        "id": "3zyhrl_-RH-e",
        "outputId": "eb7bed69-c9d9-42e7-bed3-503341091aae",
        "colab": {
          "base_uri": "https://localhost:8080/"
        }
      },
      "execution_count": 45,
      "outputs": [
        {
          "output_type": "stream",
          "name": "stdout",
          "text": [
            "Area of circle: 2827.4333882308138\n",
            "Circumference of Circle: 188.49555921538757\n",
            "Enter the radius value: 4\n",
            "Area of circle with new radius 50.26548245743669\n"
          ]
        }
      ]
    },
    {
      "cell_type": "code",
      "source": [
        "# Q6\n",
        "\n",
        "sentence = \"I am a teacher and I love to inspire and teach people\"\n",
        "\n",
        "# splting the sentence with the help of split keyword\n",
        "S = sentence.split(\" \") #split() is used to split the sentence\n",
        "Split_set = set(S)\n",
        "print(\"words in set: \" ,Split_set)\n",
        "print(\"Number of unique words in given sentence: \",len(Split_set))\n",
        "                          "
      ],
      "metadata": {
        "id": "I_TmqNr6TMGR",
        "outputId": "b33ceee9-42fe-4b7d-f70d-f8a1ba789232",
        "colab": {
          "base_uri": "https://localhost:8080/"
        }
      },
      "execution_count": 46,
      "outputs": [
        {
          "output_type": "stream",
          "name": "stdout",
          "text": [
            "words in set:  {'teacher', 'to', 'I', 'people', 'inspire', 'a', 'teach', 'and', 'love', 'am'}\n",
            "Number of unique words in given sentence:  10\n"
          ]
        }
      ]
    },
    {
      "cell_type": "code",
      "source": [
        "# Q7\n",
        "\n",
        "print(\"Name\\t\\tAge\\tCountry\\tCity\\nAsabeneh\\t250\\tFinland\\tHelsinki\")# /t is used for tabspace \n",
        "#/n is used to get into new line"
      ],
      "metadata": {
        "id": "MRvAnGY9Ultg",
        "outputId": "275df26a-8863-4189-d3ae-bda44cc70966",
        "colab": {
          "base_uri": "https://localhost:8080/"
        }
      },
      "execution_count": 47,
      "outputs": [
        {
          "output_type": "stream",
          "name": "stdout",
          "text": [
            "Name\t\tAge\tCountry\tCity\n",
            "Asabeneh\t250\tFinland\tHelsinki\n"
          ]
        }
      ]
    },
    {
      "cell_type": "code",
      "source": [
        "# Q8\n",
        "\n",
        "radius = 10\n",
        "area = int(3.14 * radius ** 2) # int() is used to covert the data into integer\n",
        "\n",
        "# string formating\n",
        "#format() is used to format the output\n",
        "format_area = 'The area of circle with radius {} is {} meters square.'.format(radius, area)  \n",
        "print(format_area)     "
      ],
      "metadata": {
        "id": "ReYc0eJEUs-A",
        "outputId": "1bc26d41-627f-4869-a718-5cc86b3b42c8",
        "colab": {
          "base_uri": "https://localhost:8080/"
        }
      },
      "execution_count": 49,
      "outputs": [
        {
          "output_type": "stream",
          "name": "stdout",
          "text": [
            "The area of circle with radius 10 is 314 meters square.\n"
          ]
        }
      ]
    },
    {
      "cell_type": "code",
      "source": [
        "# Q9\n",
        "\n",
        "# Taking the input form User\n",
        "#input() is used to take input from user in string type\n",
        "n = int(input('Enter the length:')) #int() is used to convert string to intger\n",
        "\n",
        "# creating lists one for lbs\n",
        "list = [] #[] is empty list\n",
        "CL =[]\n",
        "for i in range (0,n) :\n",
        "    p =  float(input('Enter the value:')) #convert string to float\n",
        "    list.append(p)\n",
        "# converting lbs and kgs\n",
        "for i in range (0,n):\n",
        "      q = list[i] * 0.453592\n",
        "      CL.append(round(q,2)) #round() is used to round the float value\n",
        "print(\"Conerted to kgs: \",CL)"
      ],
      "metadata": {
        "id": "rrEWYYtOUwbC"
      },
      "execution_count": null,
      "outputs": []
    }
  ]
}